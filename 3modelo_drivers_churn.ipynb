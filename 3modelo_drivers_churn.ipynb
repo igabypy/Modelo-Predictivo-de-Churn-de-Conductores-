{
 "cells": [
  {
   "cell_type": "markdown",
   "metadata": {},
   "source": [
    "# Exploración de Modelos, Validación y Interpretabilidad\n",
    "\n",
    "\n",
    "\n",
    "### Objetivos:\n",
    "\n",
    "1. Entrenar múltiples modelos (RandomForest, GradientBoosting) con validación cruzada\n",
    "   y ajuste de hiperparámetros (GridSearchCV).\n",
    "2. Seleccionar el mejor modelo basado en su desempeño.\n",
    "3. Evaluar el modelo seleccionado en un conjunto de prueba.\n",
    "4. Interpretar el modelo final usando la librería SHAP.\n",
    "\n",
    "### Requisitos:\n",
    "\n",
    "\n",
    "#### Autor: Gabriela Durán Meza"
   ]
  },
  {
   "cell_type": "code",
   "execution_count": 13,
   "metadata": {},
   "outputs": [],
   "source": [
    "import pandas as pd\n",
    "import numpy as np\n",
    "import matplotlib.pyplot as plt\n",
    "import seaborn as sns\n",
    "\n",
    "from sklearn.feature_extraction.text import TfidfVectorizer\n",
    "from sklearn.compose import ColumnTransformer\n",
    "from sklearn.pipeline import Pipeline\n",
    "from sklearn.preprocessing import StandardScaler, OneHotEncoder\n",
    "from sklearn.model_selection import train_test_split, GridSearchCV\n",
    "from sklearn.ensemble import RandomForestClassifier, GradientBoostingClassifier\n",
    "from sklearn.metrics import classification_report, confusion_matrix\n",
    "\n",
    "from nltk.corpus import stopwords\n",
    "import nltk\n",
    "\n",
    "import warnings\n",
    "warnings.filterwarnings(\"ignore\")"
   ]
  },
  {
   "cell_type": "markdown",
   "metadata": {},
   "source": [
    "### 1. Carga de datos "
   ]
  },
  {
   "cell_type": "code",
   "execution_count": 14,
   "metadata": {},
   "outputs": [
    {
     "name": "stdout",
     "output_type": "stream",
     "text": [
      "Index(['driver_id', 'tag', 'age', 'salary', 'education', 'marital_status',\n",
      "       'years_experience', 'num_prev_employers', 'trip_duration',\n",
      "       'distance_traveled', 'risk_zone', 'high_prob_leave', 'message',\n",
      "       'salario_por_km', 'experiencia_normalizada', 'salario_por_duracion',\n",
      "       'is_solo_provider', 'zona_alta_y_sueldo_bajo'],\n",
      "      dtype='object')\n"
     ]
    }
   ],
   "source": [
    "df = pd.read_csv(r\"C:\\Users\\igaby\\OneDrive\\Documents\\MEGA\\ds_projects\\traxion\\silver\\driver_data_with_messages_fe.csv\")\n",
    "print(df.columns)"
   ]
  },
  {
   "cell_type": "markdown",
   "metadata": {},
   "source": [
    "\n",
    "### 2. Definición de variables predictoras (X) y variable objetivo (y)"
   ]
  },
  {
   "cell_type": "code",
   "execution_count": 15,
   "metadata": {},
   "outputs": [],
   "source": [
    "# Variables por tipo\n",
    "numeric_cols = [\n",
    "    'age', 'salary', 'years_experience', 'num_prev_employers',\n",
    "    'trip_duration', 'distance_traveled', 'salario_por_km',\n",
    "    'experiencia_normalizada', 'salario_por_duracion'\n",
    "]\n",
    "\n",
    "categorical_cols = ['education', 'marital_status', 'risk_zone', 'zona_alta_y_sueldo_bajo']\n",
    "text_col = 'message'\n",
    "\n",
    "features = numeric_cols + categorical_cols + [text_col]\n",
    "target = 'high_prob_leave'\n",
    "\n",
    "# Separación de datos\n",
    "X = df[features]\n",
    "y = df[target]"
   ]
  },
  {
   "cell_type": "markdown",
   "metadata": {},
   "source": [
    "\n",
    "### 3. Preprocesamiento de datos\n",
    "   - Escalado de variables numéricas\n",
    "   - Codificación One-Hot de variables categóricas\n"
   ]
  },
  {
   "cell_type": "code",
   "execution_count": 16,
   "metadata": {},
   "outputs": [],
   "source": [
    "# Descargar stopwords de NLTK si es la primera vez\n",
    "#nltk.download('stopwords')\n",
    "\n",
    "# 🧹 Lista de palabras comunes en español\n",
    "spanish_stopwords = stopwords.words('spanish')\n",
    "\n",
    "# 🔢 Transformador para columnas numéricas\n",
    "numeric_transformer = Pipeline(steps=[\n",
    "    ('scaler', StandardScaler())\n",
    "])\n",
    "\n",
    "# 🔠 Transformador para columnas categóricas\n",
    "categorical_transformer = Pipeline(steps=[\n",
    "    ('onehot', OneHotEncoder(drop='first'))\n",
    "])\n",
    "\n",
    "# Transformador de texto con TF-IDF y stopwords en español\n",
    "text_transformer = Pipeline(steps=[\n",
    "    ('tfidf', TfidfVectorizer(\n",
    "        max_features=300,\n",
    "        stop_words=spanish_stopwords,  # stopwords en español\n",
    "        ngram_range=(1, 1)\n",
    "    ))\n",
    "])\n",
    "\n",
    "# Ensamble de transformadores\n",
    "preprocessor = ColumnTransformer(\n",
    "    transformers=[\n",
    "        ('num', numeric_transformer, numeric_cols),\n",
    "        ('cat', categorical_transformer, categorical_cols),\n",
    "        ('txt', text_transformer, text_col)\n",
    "    ]\n",
    ")"
   ]
  },
  {
   "cell_type": "markdown",
   "metadata": {},
   "source": [
    "\n",
    "\n",
    "### 4. Definición de modelos y búsqueda de hiperparámetros con validación cruzada\n",
    "\n"
   ]
  },
  {
   "cell_type": "code",
   "execution_count": 17,
   "metadata": {},
   "outputs": [
    {
     "name": "stdout",
     "output_type": "stream",
     "text": [
      "Modelo: RandomForest\n",
      "Mejores parámetros: {'clf__max_depth': 5, 'clf__n_estimators': 50}\n",
      "Mejor accuracy (validación): 0.8830\n",
      "\n",
      "Modelo: GradientBoosting\n",
      "Mejores parámetros: {'clf__learning_rate': 0.1, 'clf__n_estimators': 50}\n",
      "Mejor accuracy (validación): 0.9620\n",
      "\n"
     ]
    }
   ],
   "source": [
    "# Modelos y sus parámetros\n",
    "models = {\n",
    "    'RandomForest': RandomForestClassifier(random_state=42),\n",
    "    'GradientBoosting': GradientBoostingClassifier(random_state=42)\n",
    "}\n",
    "\n",
    "params = {\n",
    "    'RandomForest': {\n",
    "        'clf__n_estimators': [50],\n",
    "        'clf__max_depth': [5]\n",
    "    },\n",
    "    'GradientBoosting': {\n",
    "        'clf__n_estimators': [50],\n",
    "        'clf__learning_rate': [0.1]\n",
    "    }\n",
    "}\n",
    "\n",
    "# Entrenar y validar cada modelo\n",
    "best_models = {}\n",
    "for model_name, model_obj in models.items():\n",
    "    pipe = Pipeline(steps=[\n",
    "        ('preprocessor', preprocessor),\n",
    "        ('clf', model_obj)\n",
    "    ])\n",
    "    \n",
    "    grid = GridSearchCV(pipe, param_grid=params[model_name], cv=3, scoring='accuracy', n_jobs=-1)\n",
    "    grid.fit(X, y)\n",
    "    \n",
    "    best_models[model_name] = grid.best_estimator_\n",
    "    \n",
    "    print(f\"Modelo: {model_name}\")\n",
    "    print(f\"Mejores parámetros: {grid.best_params_}\")\n",
    "    print(f\"Mejor accuracy (validación): {grid.best_score_:.4f}\\n\")"
   ]
  },
  {
   "cell_type": "markdown",
   "metadata": {},
   "source": [
    "\n",
    "\n",
    "### 5. Seleccionar el mejor modelo en función de su desempeño global\n",
    "\n"
   ]
  },
  {
   "cell_type": "code",
   "execution_count": 18,
   "metadata": {},
   "outputs": [
    {
     "name": "stdout",
     "output_type": "stream",
     "text": [
      "\n",
      "Mejor modelo seleccionado: GradientBoosting\n",
      "\n",
      "Reporte de Clasificación:\n",
      "              precision    recall  f1-score   support\n",
      "\n",
      "           0       0.96      1.00      0.98       492\n",
      "           1       0.98      0.83      0.90       108\n",
      "\n",
      "    accuracy                           0.97       600\n",
      "   macro avg       0.97      0.91      0.94       600\n",
      "weighted avg       0.97      0.97      0.97       600\n",
      "\n",
      "Matriz de Confusión:\n",
      "[[490   2]\n",
      " [ 18  90]]\n"
     ]
    }
   ],
   "source": [
    "# Seleccionar el mejor modelo\n",
    "best_model_name = max(best_models, key=lambda name: best_models[name].score(X, y))\n",
    "best_model = best_models[best_model_name]\n",
    "\n",
    "# Evaluar en test\n",
    "X_train, X_test, y_train, y_test = train_test_split(X, y, test_size=0.2, random_state=42)\n",
    "best_model.fit(X_train, y_train)\n",
    "y_pred = best_model.predict(X_test)\n",
    "\n",
    "print(f\"\\nMejor modelo seleccionado: {best_model_name}\")\n",
    "print(\"\\nReporte de Clasificación:\")\n",
    "print(classification_report(y_test, y_pred))\n",
    "print(\"Matriz de Confusión:\")\n",
    "print(confusion_matrix(y_test, y_pred))\n"
   ]
  },
  {
   "cell_type": "code",
   "execution_count": 20,
   "metadata": {},
   "outputs": [],
   "source": [
    "# 1. Generar el reporte de clasificación como diccionario\n",
    "report_dict = classification_report(y_test, y_pred, output_dict=True)\n",
    "\n",
    "# 2. Convertir el diccionario en un DataFrame\n",
    "report_df = pd.DataFrame(report_dict).transpose()\n",
    "\n",
    "# 3. Exportar el DataFrame a un archivo Excel\n",
    "#report_df.to_excel(r\"C:\\Users\\igaby\\OneDrive\\Documents\\MEGA\\ds_projects\\traxion\\gold\\classification_report.xlsx\", index=True)\n",
    "\n",
    "#print(\"El archivo classification_report.xlsx se ha creado con éxito.\")"
   ]
  },
  {
   "cell_type": "code",
   "execution_count": 21,
   "metadata": {},
   "outputs": [
    {
     "data": {
      "image/png": "[encoded data removed]",
      "text/plain": [
       "<Figure size 600x500 with 2 Axes>"
      ]
     },
     "metadata": {},
     "output_type": "display_data"
    }
   ],
   "source": [
    "# Graficar matriz de confusión\n",
    "plt.figure(figsize=(6, 5))\n",
    "sns.heatmap(\n",
    "    pd.crosstab(y_test, y_pred, rownames=[\"Actual\"], colnames=[\"Predicho\"]),\n",
    "    annot=True,\n",
    "    fmt=\"d\",\n",
    "    cmap=\"Greens\"\n",
    ")\n",
    "plt.title(\"Matriz de Confusión - GradientBoosting\")\n",
    "plt.tight_layout()\n",
    "plt.show()"
   ]
  },
  {
   "cell_type": "markdown",
   "metadata": {},
   "source": [
    "### 6. Importancia de variables."
   ]
  },
  {
   "cell_type": "code",
   "execution_count": 26,
   "metadata": {},
   "outputs": [
    {
     "data": {
      "image/png": "[encoded data removed]",
      "text/plain": [
       "<Figure size 1000x600 with 1 Axes>"
      ]
     },
     "metadata": {},
     "output_type": "display_data"
    }
   ],
   "source": [
    "# Obtener importancia de variables del modelo final\n",
    "final_clf = best_model.named_steps['clf']\n",
    "transformer = best_model.named_steps['preprocessor']\n",
    "\n",
    "# Obtener nombres de features transformados\n",
    "ohe_feature_names = transformer.transformers_[1][1]['onehot'].get_feature_names_out(categorical_cols)\n",
    "text_features = transformer.named_transformers_['txt']['tfidf'].get_feature_names_out()\n",
    "feature_names = numeric_cols + list(ohe_feature_names) + list(text_features)\n",
    "\n",
    "# Obtener importancias y ordenarlas\n",
    "importances = final_clf.feature_importances_\n",
    "feature_importance_df = pd.DataFrame({\n",
    "    'feature': feature_names,\n",
    "    'importance': importances\n",
    "}).sort_values(by='importance', ascending=False)\n",
    "\n",
    "# Crear paleta verde\n",
    "green_palette = sns.color_palette(\"Greens_r\", n_colors=10)  # _r para invertir (más intensos arriba)\n",
    "\n",
    "# Gráfico de las 20 variables más importantes\n",
    "plt.figure(figsize=(10, 6))\n",
    "sns.barplot(\n",
    "    data=feature_importance_df.head(10),\n",
    "    x='importance',\n",
    "    y='feature',\n",
    "    palette=green_palette\n",
    ")\n",
    "\n",
    "# Cambiar el color de los textos a gris\n",
    "plt.title(f\"Top 20 Variables más Importantes - {best_model_name}\", color='gray')\n",
    "plt.xlabel(\"Importancia\", color='gray')\n",
    "plt.ylabel(\"Variable\", color='gray')\n",
    "plt.xticks(color='gray')\n",
    "plt.yticks(color='gray')\n",
    "plt.tight_layout()\n",
    "plt.show()"
   ]
  },
  {
   "cell_type": "code",
   "execution_count": null,
   "metadata": {},
   "outputs": [],
   "source": []
  }
 ],
 "metadata": {
  "kernelspec": {
   "display_name": "Python 3",
   "language": "python",
   "name": "python3"
  },
  "language_info": {
   "codemirror_mode": {
    "name": "ipython",
    "version": 3
   },
   "file_extension": ".py",
   "mimetype": "text/x-python",
   "name": "python",
   "nbconvert_exporter": "python",
   "pygments_lexer": "ipython3",
   "version": "3.11.9"
  }
 },
 "nbformat": 4,
 "nbformat_minor": 2
}
